{
  "nbformat": 4,
  "nbformat_minor": 0,
  "metadata": {
    "colab": {
      "provenance": [],
      "authorship_tag": "ABX9TyOIJV+PBi2TF9OgVFbQVtE/",
      "include_colab_link": true
    },
    "kernelspec": {
      "name": "python3",
      "display_name": "Python 3"
    },
    "language_info": {
      "name": "python"
    }
  },
  "cells": [
    {
      "cell_type": "markdown",
      "metadata": {
        "id": "view-in-github",
        "colab_type": "text"
      },
      "source": [
        "<a href=\"https://colab.research.google.com/github/LBarros77/linear-programming/blob/main/question2.ipynb\" target=\"_parent\"><img src=\"https://colab.research.google.com/assets/colab-badge.svg\" alt=\"Open In Colab\"/></a>"
      ]
    },
    {
      "cell_type": "code",
      "execution_count": 15,
      "metadata": {
        "colab": {
          "base_uri": "https://localhost:8080/"
        },
        "id": "cL4V7wyo64_B",
        "outputId": "0da6d7b2-9e7d-441b-9729-10ee1464ec5e"
      },
      "outputs": [
        {
          "output_type": "stream",
          "name": "stdout",
          "text": [
            "Requirement already satisfied: pulp in /usr/local/lib/python3.10/dist-packages (2.8.0)\n"
          ]
        }
      ],
      "source": [
        "pip install pulp"
      ]
    },
    {
      "cell_type": "code",
      "source": [
        "from pulp import LpMaximize, LpProblem, LpStatus, LpVariable"
      ],
      "metadata": {
        "id": "8XU8E8oA7FZ0"
      },
      "execution_count": 17,
      "outputs": []
    },
    {
      "cell_type": "code",
      "source": [
        "prob = LpProblem(name=\"balance_feed\", sense=LpMaximize)"
      ],
      "metadata": {
        "id": "7fUD-v1p7HKw"
      },
      "execution_count": 18,
      "outputs": []
    },
    {
      "cell_type": "code",
      "source": [
        "x = LpVariable(name=\"cereais\", upBound=4)\n",
        "y = LpVariable(name=\"carne\", upBound=1)"
      ],
      "metadata": {
        "id": "EXDXrFuF8moS"
      },
      "execution_count": 19,
      "outputs": []
    },
    {
      "cell_type": "code",
      "source": [
        "prob += 5*x + 1*y <= 10000\n",
        "prob += 2*x + 4*y <= 30000"
      ],
      "metadata": {
        "id": "TBr9nTg-9Xjb"
      },
      "execution_count": 20,
      "outputs": []
    },
    {
      "cell_type": "code",
      "source": [
        "prob.solve()\n",
        "print(\"Status\", LpStatus[prob.status])\n",
        "for v in prob.variables():\n",
        "  print(v.name, \"=\", v.varValue)"
      ],
      "metadata": {
        "colab": {
          "base_uri": "https://localhost:8080/"
        },
        "id": "rkxQQsxT9zxX",
        "outputId": "798f2f9c-0e1d-431f-f479-a828ccae7cb9"
      },
      "execution_count": 21,
      "outputs": [
        {
          "output_type": "stream",
          "name": "stdout",
          "text": [
            "Status Optimal\n",
            "__dummy = None\n",
            "carne = 1.0\n",
            "cereais = 4.0\n"
          ]
        }
      ]
    }
  ]
}