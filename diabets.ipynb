{
  "nbformat": 4,
  "nbformat_minor": 0,
  "metadata": {
    "colab": {
      "provenance": [],
      "authorship_tag": "ABX9TyO3Dx8sh8Yj+cM6KkMrjyFH",
      "include_colab_link": true
    },
    "kernelspec": {
      "name": "python3",
      "display_name": "Python 3"
    },
    "language_info": {
      "name": "python"
    }
  },
  "cells": [
    {
      "cell_type": "markdown",
      "metadata": {
        "id": "view-in-github",
        "colab_type": "text"
      },
      "source": [
        "<a href=\"https://colab.research.google.com/github/LBarros77/MachineLearning/blob/main/diabets.ipynb\" target=\"_parent\"><img src=\"https://colab.research.google.com/assets/colab-badge.svg\" alt=\"Open In Colab\"/></a>"
      ]
    },
    {
      "cell_type": "code",
      "execution_count": 31,
      "metadata": {
        "id": "yg8EA6UvOhb7"
      },
      "outputs": [],
      "source": [
        "from sklearn.datasets import load_digits\n",
        "from sklearn.model_selection import train_test_split, cross_val_score\n",
        "from sklearn.linear_model import LogisticRegression\n",
        "from sklearn.metrics import accuracy_score, precision_score, recall_score"
      ]
    },
    {
      "cell_type": "code",
      "source": [
        "# Load the dataset\n",
        "digits = load_digits()\n",
        "X, y = digits.data, digits.target\n",
        "\n",
        "# Split into training and testing sets (80/20 split)\n",
        "X_train, X_test, y_train, y_test = train_test_split(X, y, test_size=0.2, random_state=42)\n",
        "\n",
        "# Initialize the model\n",
        "model = LogisticRegression(max_iter=1000)\n",
        "\n",
        "# Train the model\n",
        "model.fit(X_train, y_train)\n",
        "\n",
        "# Make predictions on the test set\n",
        "y_pred = model.predict(X_test)\n",
        "\n",
        "# Calculate metrics on the test set\n",
        "accuracy = accuracy_score(y_test, y_pred)\n",
        "precision = precision_score(y_test, y_pred, average='weighted')\n",
        "recall = recall_score(y_test, y_pred, average='weighted')\n",
        "\n",
        "for i in range(10):\n",
        "    print(f\"Data point {i}: Class label = {y[i]}\")\n",
        "\n",
        "print(\"\\nAccuracy:\", accuracy)\n",
        "print(\"Precision:\", precision)\n",
        "print(\"Recall:\", recall)\n",
        "\n",
        "# Perform cross-validation (5-fold cross-validation)\n",
        "cv_scores = cross_val_score(model, X, y, cv=5, scoring='accuracy')\n",
        "\n",
        "print(\"Cross-validation scores:\", cv_scores)\n",
        "print(\"Average cross-validation accuracy:\", cv_scores.mean())"
      ],
      "metadata": {
        "id": "4kpRdfzQi5k8",
        "colab": {
          "base_uri": "https://localhost:8080/"
        },
        "outputId": "706d4a96-4cfe-4163-d5da-8448a2efeb01"
      },
      "execution_count": 34,
      "outputs": [
        {
          "output_type": "stream",
          "name": "stdout",
          "text": [
            "Data point 0: Class label = 0\n",
            "Data point 1: Class label = 1\n",
            "Data point 2: Class label = 2\n",
            "Data point 3: Class label = 3\n",
            "Data point 4: Class label = 4\n",
            "Data point 5: Class label = 5\n",
            "Data point 6: Class label = 6\n",
            "Data point 7: Class label = 7\n",
            "Data point 8: Class label = 8\n",
            "Data point 9: Class label = 9\n",
            "\n",
            "Accuracy: 0.975\n",
            "Precision: 0.9754780751086168\n",
            "Recall: 0.975\n",
            "Cross-validation scores: [0.92222222 0.87222222 0.94150418 0.94150418 0.89693593]\n",
            "Average cross-validation accuracy: 0.9148777468276075\n"
          ]
        }
      ]
    }
  ]
}