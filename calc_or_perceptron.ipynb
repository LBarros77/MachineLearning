{
  "nbformat": 4,
  "nbformat_minor": 0,
  "metadata": {
    "colab": {
      "provenance": [],
      "include_colab_link": true
    },
    "kernelspec": {
      "name": "python3",
      "display_name": "Python 3"
    },
    "language_info": {
      "name": "python"
    }
  },
  "cells": [
    {
      "cell_type": "markdown",
      "metadata": {
        "id": "view-in-github",
        "colab_type": "text"
      },
      "source": [
        "<a href=\"https://colab.research.google.com/github/LBarros77/MachineLearning/blob/main/calc_or_perceptron.ipynb\" target=\"_parent\"><img src=\"https://colab.research.google.com/assets/colab-badge.svg\" alt=\"Open In Colab\"/></a>"
      ]
    },
    {
      "cell_type": "code",
      "source": [
        "import numpy as np\n",
        "\n",
        "def sigmoid(x):\n",
        "  ''' Method calculate sigmoid '''\n",
        "  return 1 / (1 + np.exp(-x))\n",
        "\n",
        "def or_perceptron(x1, x2):\n",
        "  ''' Method calculate or with perceptron\n",
        "  param: x1, x2\n",
        "  return: 1 or 0\n",
        "  '''\n",
        "  weights = np.array([20, 20])\n",
        "  bias = -10\n",
        "  inputs = np.array([x1, x2])\n",
        "  linear_combination = np.dot(weights, inputs) + bias\n",
        "  output = sigmoid(linear_combination)\n",
        "  return 1 if output >= 0.5 else 0\n",
        "\n",
        "# Test cases\n",
        "print(f\"OR(0, 0): {or_perceptron(0, 0)}\")\n",
        "print(f\"OR(0, 1): {or_perceptron(0, 1)}\")\n",
        "print(f\"OR(1, 0): {or_perceptron(1, 0)}\")\n",
        "print(f\"OR(1, 1): {or_perceptron(1, 1)}\")\n"
      ],
      "metadata": {
        "colab": {
          "base_uri": "https://localhost:8080/"
        },
        "id": "LPQmIsFBRjVI",
        "outputId": "46c1cd27-cdc3-4573-bae0-3fa6afe61a8f"
      },
      "execution_count": 2,
      "outputs": [
        {
          "output_type": "stream",
          "name": "stdout",
          "text": [
            "OR(0, 0): 0\n",
            "OR(0, 1): 1\n",
            "OR(1, 0): 1\n",
            "OR(1, 1): 1\n"
          ]
        }
      ]
    }
  ]
}